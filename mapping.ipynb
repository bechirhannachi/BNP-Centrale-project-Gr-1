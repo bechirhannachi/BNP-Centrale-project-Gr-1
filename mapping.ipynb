{
 "cells": [
  {
   "cell_type": "code",
   "execution_count": null,
   "metadata": {},
   "outputs": [],
   "source": [
    "import pandas as pd"
   ]
  },
  {
   "cell_type": "markdown",
   "metadata": {},
   "source": [
    "# Mapping sur la database dp1"
   ]
  },
  {
   "cell_type": "code",
   "execution_count": 162,
   "metadata": {},
   "outputs": [
    {
     "name": "stderr",
     "output_type": "stream",
     "text": [
      "/var/folders/2n/lg7k599d1vb29gj0p2dj2rfr0000gn/T/ipykernel_18288/2555595010.py:1: DtypeWarning: Columns (35) have mixed types. Specify dtype option on import or set low_memory=False.\n",
      "  df1=pd.read_csv('dpe1.csv')\n"
     ]
    }
   ],
   "source": [
    "df1=pd.read_csv('dpe1.csv')"
   ]
  },
  {
   "cell_type": "code",
   "execution_count": 163,
   "metadata": {},
   "outputs": [],
   "source": [
    "filter1=(df1['date_visite_diagnostiqueur']>'1677-09-21') & (df1['date_visite_diagnostiqueur']<'2026')\n",
    "filter2=(df1['date_etablissement_dpe']>'1677-09-21') & (df1['date_etablissement_dpe']<'2026')\n",
    "filter3=(df1['date_arrete_tarifs_energies']>'1677-09-21') & (df1['date_arrete_tarifs_energies']<'2026')\n",
    "df1=df1[filter1&filter2&filter3]"
   ]
  },
  {
   "cell_type": "code",
   "execution_count": 164,
   "metadata": {},
   "outputs": [],
   "source": [
    "df1['date_visite_diagnostiqueur']=pd.to_datetime(df1['date_visite_diagnostiqueur'])\n",
    "df1['date_etablissement_dpe']=pd.to_datetime(df1['date_etablissement_dpe'])\n",
    "df1['date_arrete_tarifs_energies']=pd.to_datetime(df1['date_arrete_tarifs_energies'])"
   ]
  },
  {
   "cell_type": "code",
   "execution_count": 165,
   "metadata": {},
   "outputs": [],
   "source": [
    "def modify(ch):\n",
    "    # Si ch est une chaîne de caractères, on effectue le split\n",
    "    if isinstance(ch, str):\n",
    "        return ch.split(\"\\xa0\")[0]+' '+ch.split(\"\\xa0\")[1]\n",
    "    else:\n",
    "        # Si ce n'est pas une chaîne, on retourne la valeur telle quelle\n",
    "        return ch\n",
    "df1['tr013_type_erp_type']=df1['tr013_type_erp_type'].apply(modify)"
   ]
  },
  {
   "cell_type": "code",
   "execution_count": 166,
   "metadata": {},
   "outputs": [],
   "source": [
    "df_names=pd.read_excel('mapping_secteur_activite.xlsx')"
   ]
  },
  {
   "cell_type": "code",
   "execution_count": 168,
   "metadata": {},
   "outputs": [],
   "source": [
    "# Création du dictionnaire de correspondance\n",
    "mapping = df_names.set_index('secteur_activite')['asset_type_cre'].to_dict()\n",
    "\n",
    "# Remplacement des valeurs avec gestion des valeurs absentes\n",
    "df1['secteur_activite'] = df1['tr013_type_erp_type'].map(mapping).fillna(df1['secteur_activite'])\n",
    "df1['secteur_activite'] = df1['secteur_activite'].map(mapping).fillna(df1['secteur_activite'])"
   ]
  },
  {
   "cell_type": "code",
   "execution_count": 169,
   "metadata": {},
   "outputs": [],
   "source": [
    "#Dictionnaire pour supprimer les valeurs non changées:\n",
    "mapping2 = {key:key for key in df_names['asset_type_cre'].unique()}\n",
    "df1['secteur_activite'] = df1['secteur_activite'].map(mapping2).dropna()"
   ]
  },
  {
   "cell_type": "code",
   "execution_count": 170,
   "metadata": {},
   "outputs": [
    {
     "data": {
      "text/plain": [
       "secteur_activite\n",
       "Autres cas (par exemple: théâtres, salles de sport, restauration, commerces individuels, etc)          174804\n",
       "Bâtiment à usage principale de bureau, d'administration ou d'enseignement                              136679\n",
       "Centre commercial                                                                                       63377\n",
       "Bâtiment à occupation continue (par exemple: hopitaux, hôtels, internats, maisons de retraite, etc)     21441\n",
       "Name: count, dtype: int64"
      ]
     },
     "execution_count": 170,
     "metadata": {},
     "output_type": "execute_result"
    }
   ],
   "source": [
    "df1['secteur_activite'].value_counts()"
   ]
  },
  {
   "cell_type": "markdown",
   "metadata": {},
   "source": [
    "# Mapping sur la database dpe2"
   ]
  },
  {
   "cell_type": "code",
   "execution_count": 177,
   "metadata": {},
   "outputs": [],
   "source": [
    "# Importer la base de données dpe2\n",
    "df2 = pd.read_csv('dpe2.csv')"
   ]
  },
  {
   "cell_type": "code",
   "execution_count": null,
   "metadata": {},
   "outputs": [],
   "source": [
    "df2['Secteur_activité'].value_counts()"
   ]
  },
  {
   "cell_type": "code",
   "execution_count": 179,
   "metadata": {},
   "outputs": [],
   "source": [
    "# Remplacer les valeurs avec gestion des valeurs absentes\n",
    "df2['Secteur_activité'] = df2['Secteur_activité'].map(mapping)"
   ]
  },
  {
   "cell_type": "code",
   "execution_count": 180,
   "metadata": {},
   "outputs": [
    {
     "data": {
      "text/plain": [
       "Secteur_activité\n",
       "Bâtiment à usage principale de bureau, d'administration ou d'enseignement                              60282\n",
       "Centre commercial                                                                                      47866\n",
       "Bâtiment à occupation continue (par exemple: hopitaux, hôtels, internats, maisons de retraite, etc)    22923\n",
       "Autres cas (par exemple: théâtres, salles de sport, restauration, commerces individuels, etc)          20264\n",
       "Name: count, dtype: int64"
      ]
     },
     "execution_count": 180,
     "metadata": {},
     "output_type": "execute_result"
    }
   ],
   "source": [
    "# Afficher les valeurs uniques de la colonne 'secteur_activite'\n",
    "df2['Secteur_activité'].value_counts()"
   ]
  }
 ],
 "metadata": {
  "kernelspec": {
   "display_name": "Python 3",
   "language": "python",
   "name": "python3"
  },
  "language_info": {
   "codemirror_mode": {
    "name": "ipython",
    "version": 3
   },
   "file_extension": ".py",
   "mimetype": "text/x-python",
   "name": "python",
   "nbconvert_exporter": "python",
   "pygments_lexer": "ipython3",
   "version": "3.13.2"
  }
 },
 "nbformat": 4,
 "nbformat_minor": 2
}
