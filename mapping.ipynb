{
 "cells": [
  {
   "cell_type": "code",
   "execution_count": 40,
   "metadata": {},
   "outputs": [],
   "source": [
    "import pandas as pd"
   ]
  },
  {
   "cell_type": "markdown",
   "metadata": {},
   "source": [
    "# Mapping sur la database dp1"
   ]
  },
  {
   "cell_type": "code",
   "execution_count": 41,
   "metadata": {},
   "outputs": [
    {
     "name": "stderr",
     "output_type": "stream",
     "text": [
      "/var/folders/2n/lg7k599d1vb29gj0p2dj2rfr0000gn/T/ipykernel_58086/2555595010.py:1: DtypeWarning: Columns (35) have mixed types. Specify dtype option on import or set low_memory=False.\n",
      "  df1=pd.read_csv('dpe1.csv')\n"
     ]
    }
   ],
   "source": [
    "df1=pd.read_csv('dpe1.csv')"
   ]
  },
  {
   "cell_type": "code",
   "execution_count": 42,
   "metadata": {},
   "outputs": [],
   "source": [
    "filter1=(df1['date_visite_diagnostiqueur']>'1677-09-21') & (df1['date_visite_diagnostiqueur']<'2026')\n",
    "filter2=(df1['date_etablissement_dpe']>'1677-09-21') & (df1['date_etablissement_dpe']<'2026')\n",
    "filter3=(df1['date_arrete_tarifs_energies']>'1677-09-21') & (df1['date_arrete_tarifs_energies']<'2026')\n",
    "df1=df1[filter1&filter2&filter3]"
   ]
  },
  {
   "cell_type": "code",
   "execution_count": 43,
   "metadata": {},
   "outputs": [],
   "source": [
    "df1['date_visite_diagnostiqueur']=pd.to_datetime(df1['date_visite_diagnostiqueur'])\n",
    "df1['date_etablissement_dpe']=pd.to_datetime(df1['date_etablissement_dpe'])\n",
    "df1['date_arrete_tarifs_energies']=pd.to_datetime(df1['date_arrete_tarifs_energies'])"
   ]
  },
  {
   "cell_type": "code",
   "execution_count": 44,
   "metadata": {},
   "outputs": [],
   "source": [
    "def modify(ch):\n",
    "    # Si ch est une chaîne de caractères, on effectue le split\n",
    "    if isinstance(ch, str):\n",
    "        return ch.split(\"\\xa0\")[0]+' '+ch.split(\"\\xa0\")[1]\n",
    "    else:\n",
    "        # Si ce n'est pas une chaîne, on retourne la valeur telle quelle\n",
    "        return ch\n",
    "df1['tr013_type_erp_type']=df1['tr013_type_erp_type'].apply(modify)"
   ]
  },
  {
   "cell_type": "code",
   "execution_count": 45,
   "metadata": {},
   "outputs": [],
   "source": [
    "df_names=pd.read_excel('mapping_secteur_activite.xlsx')"
   ]
  },
  {
   "cell_type": "code",
   "execution_count": 46,
   "metadata": {},
   "outputs": [],
   "source": [
    "# Création du dictionnaire de correspondance\n",
    "mapping = df_names.set_index('secteur_activite')['asset_type_cre'].to_dict()\n",
    "\n",
    "# Remplacement des valeurs avec gestion des valeurs absentes\n",
    "df1['secteur_activite'] = df1['tr013_type_erp_type'].map(mapping).fillna(df1['secteur_activite'])\n",
    "df1['secteur_activite'] = df1['secteur_activite'].map(mapping).fillna(df1['secteur_activite'])"
   ]
  },
  {
   "cell_type": "code",
   "execution_count": 47,
   "metadata": {},
   "outputs": [],
   "source": [
    "#Dictionnaire pour supprimer les valeurs non changées:\n",
    "mapping2 = {key:key for key in df_names['asset_type_cre'].unique()}\n",
    "df1['secteur_activite'] = df1['secteur_activite'].map(mapping2)\n",
    "df1.dropna(subset=['secteur_activite'], inplace=True)"
   ]
  },
  {
   "cell_type": "code",
   "execution_count": 48,
   "metadata": {},
   "outputs": [
    {
     "data": {
      "text/plain": [
       "secteur_activite\n",
       "Autres cas (par exemple: théâtres, salles de sport, restauration, commerces individuels, etc)          174804\n",
       "Bâtiment à usage principale de bureau, d'administration ou d'enseignement                              136679\n",
       "Centre commercial                                                                                       63377\n",
       "Bâtiment à occupation continue (par exemple: hopitaux, hôtels, internats, maisons de retraite, etc)     21441\n",
       "Name: count, dtype: int64"
      ]
     },
     "execution_count": 48,
     "metadata": {},
     "output_type": "execute_result"
    }
   ],
   "source": [
    "df1['secteur_activite'].value_counts()"
   ]
  },
  {
   "cell_type": "markdown",
   "metadata": {},
   "source": [
    "# Mapping sur la database dpe2"
   ]
  },
  {
   "cell_type": "code",
   "execution_count": 49,
   "metadata": {},
   "outputs": [],
   "source": [
    "# Importer la base de données dpe2\n",
    "df2 = pd.read_csv('dpe2.csv')"
   ]
  },
  {
   "cell_type": "code",
   "execution_count": 50,
   "metadata": {},
   "outputs": [
    {
     "data": {
      "text/plain": [
       "Secteur_activité\n",
       "M : Magasins de vente, centres commerciaux                                                                            47866\n",
       "autres tertiaires non ERP                                                                                             47672\n",
       "W : Administrations, banques, bureaux                                                                                 29818\n",
       "locaux d'entreprise (bureaux)                                                                                         24820\n",
       "N : Restaurants et débits de boisson                                                                                  16481\n",
       "J : Structures d’accueil pour personnes âgées ou personnes handicapées                                                11050\n",
       "U : Établissements de soins                                                                                            8547\n",
       "R : Établissements d’éveil, d’enseignement, de formation, centres de vacances, centres de loisirs sans hébergement     4036\n",
       "O : Hôtels et pensions de famille                                                                                      3010\n",
       "GHW : Bureaux                                                                                                          1608\n",
       "L : Salles d'auditions, de conférences, de réunions, de spectacles ou à usage multiple                                 1176\n",
       "X : Établissements sportifs couverts                                                                                    945\n",
       "GHZ : Usage mixte                                                                                                       857\n",
       "T : Salles d'exposition à vocation commerciale                                                                          732\n",
       "P : Salles de danse et salles de jeux                                                                                   479\n",
       "V : Établissements de divers cultes                                                                                     204\n",
       "S : Bibliothèques, centres de documentation                                                                             133\n",
       "PA : Établissements de Plein Air                                                                                        128\n",
       "OA : Hôtels-restaurants d'Altitude                                                                                      111\n",
       "GA : Gares Accessibles au public (chemins de fer, téléphériques, remonte-pentes...)                                      69\n",
       "GHR : Enseignement                                                                                                       61\n",
       "Y : Musées                                                                                                               49\n",
       "PS : Parcs de Stationnement couverts                                                                                     41\n",
       "GHU : Usage sanitaire                                                                                                    40\n",
       "GHO : Hôtel                                                                                                              32\n",
       "GHA : Habitation                                                                                                         17\n",
       "REF : REFuges de montagne                                                                                                 7\n",
       "CTS : Chapiteaux, Tentes et Structures toile                                                                              7\n",
       "GHTC : tour de contrôle                                                                                                   2\n",
       "EF : Établissements flottants (eaux intérieures)                                                                          1\n",
       "GHS : Dépôt d'archives                                                                                                    1\n",
       "Name: count, dtype: int64"
      ]
     },
     "execution_count": 50,
     "metadata": {},
     "output_type": "execute_result"
    }
   ],
   "source": [
    "df2['Secteur_activité'].value_counts()"
   ]
  },
  {
   "cell_type": "code",
   "execution_count": 51,
   "metadata": {},
   "outputs": [],
   "source": [
    "# Remplacer les valeurs avec gestion des valeurs absentes\n",
    "df2['Secteur_activité'] = df2['Secteur_activité'].map(mapping)"
   ]
  },
  {
   "cell_type": "code",
   "execution_count": 52,
   "metadata": {},
   "outputs": [
    {
     "data": {
      "text/plain": [
       "Secteur_activité\n",
       "Bâtiment à usage principale de bureau, d'administration ou d'enseignement                              60282\n",
       "Centre commercial                                                                                      47866\n",
       "Bâtiment à occupation continue (par exemple: hopitaux, hôtels, internats, maisons de retraite, etc)    22923\n",
       "Autres cas (par exemple: théâtres, salles de sport, restauration, commerces individuels, etc)          20264\n",
       "Name: count, dtype: int64"
      ]
     },
     "execution_count": 52,
     "metadata": {},
     "output_type": "execute_result"
    }
   ],
   "source": [
    "# Afficher les valeurs uniques de la colonne 'secteur_activite'\n",
    "df2['Secteur_activité'].value_counts()"
   ]
  },
  {
   "cell_type": "code",
   "execution_count": null,
   "metadata": {},
   "outputs": [
    {
     "data": {
      "text/plain": [
       "np.int64(48665)"
      ]
     },
     "execution_count": 59,
     "metadata": {},
     "output_type": "execute_result"
    }
   ],
   "source": [
    "df2.dropna(subset=['Secteur_activité'], inplace=True)"
   ]
  },
  {
   "cell_type": "markdown",
   "metadata": {},
   "source": [
    "# Enregistrement des databases"
   ]
  },
  {
   "cell_type": "code",
   "execution_count": 53,
   "metadata": {},
   "outputs": [],
   "source": [
    "df1.to_csv('df1.csv', index=False)\n",
    "df2.to_csv('df2.csv', index=False)"
   ]
  }
 ],
 "metadata": {
  "kernelspec": {
   "display_name": "Python 3",
   "language": "python",
   "name": "python3"
  },
  "language_info": {
   "codemirror_mode": {
    "name": "ipython",
    "version": 3
   },
   "file_extension": ".py",
   "mimetype": "text/x-python",
   "name": "python",
   "nbconvert_exporter": "python",
   "pygments_lexer": "ipython3",
   "version": "3.13.2"
  }
 },
 "nbformat": 4,
 "nbformat_minor": 2
}
