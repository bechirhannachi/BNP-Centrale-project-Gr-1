{
 "cells": [
  {
   "cell_type": "code",
   "execution_count": 345,
   "metadata": {},
   "outputs": [],
   "source": [
    "import pandas as pd\n",
    "import seaborn as sns\n",
    "import numpy as np\n",
    "import matplotlib.pyplot as plt"
   ]
  },
  {
   "cell_type": "code",
   "execution_count": 346,
   "metadata": {},
   "outputs": [
    {
     "name": "stderr",
     "output_type": "stream",
     "text": [
      "C:\\Users\\marie\\AppData\\Local\\Temp\\ipykernel_20688\\1942843383.py:1: DtypeWarning: Columns (35) have mixed types. Specify dtype option on import or set low_memory=False.\n",
      "  df1=pd.read_csv('dpe1.csv')\n"
     ]
    }
   ],
   "source": [
    "df1=pd.read_csv('dpe1.csv')\n"
   ]
  },
  {
   "cell_type": "code",
   "execution_count": 347,
   "metadata": {},
   "outputs": [
    {
     "data": {
      "text/html": [
       "<div>\n",
       "<style scoped>\n",
       "    .dataframe tbody tr th:only-of-type {\n",
       "        vertical-align: middle;\n",
       "    }\n",
       "\n",
       "    .dataframe tbody tr th {\n",
       "        vertical-align: top;\n",
       "    }\n",
       "\n",
       "    .dataframe thead th {\n",
       "        text-align: right;\n",
       "    }\n",
       "</style>\n",
       "<table border=\"1\" class=\"dataframe\">\n",
       "  <thead>\n",
       "    <tr style=\"text-align: right;\">\n",
       "      <th></th>\n",
       "      <th>id</th>\n",
       "      <th>numero_dpe</th>\n",
       "      <th>usr_diagnostiqueur_id</th>\n",
       "      <th>usr_logiciel_id</th>\n",
       "      <th>tr001_modele_dpe_id</th>\n",
       "      <th>nom_methode_dpe</th>\n",
       "      <th>version_methode_dpe</th>\n",
       "      <th>nom_methode_etude_thermique</th>\n",
       "      <th>version_methode_etude_thermique</th>\n",
       "      <th>date_visite_diagnostiqueur</th>\n",
       "      <th>...</th>\n",
       "      <th>tv017_zone_hiver_code</th>\n",
       "      <th>tv017_zone_hiver_t_ext_moyen</th>\n",
       "      <th>tv017_zone_hiver_peta_cw</th>\n",
       "      <th>tv017_zone_hiver_dh14</th>\n",
       "      <th>tv017_zone_hiver_prs1</th>\n",
       "      <th>tv018_zone_ete_code</th>\n",
       "      <th>tv018_zone_ete_sclim_inf_150</th>\n",
       "      <th>tv018_zone_ete_sclim_sup_150</th>\n",
       "      <th>tv018_zone_ete_rclim_autres_etages</th>\n",
       "      <th>tv018_zone_ete_rclim_dernier_etage</th>\n",
       "    </tr>\n",
       "  </thead>\n",
       "  <tbody>\n",
       "    <tr>\n",
       "      <th>0</th>\n",
       "      <td>179</td>\n",
       "      <td>1330V8000001A</td>\n",
       "      <td>3710</td>\n",
       "      <td>3</td>\n",
       "      <td>8</td>\n",
       "      <td>Méthode Facture</td>\n",
       "      <td>NaN</td>\n",
       "      <td>\\N</td>\n",
       "      <td>\\N</td>\n",
       "      <td>2013-04-10</td>\n",
       "      <td>...</td>\n",
       "      <td>H3</td>\n",
       "      <td>9.65</td>\n",
       "      <td>14.5</td>\n",
       "      <td>22200</td>\n",
       "      <td>2.9</td>\n",
       "      <td>Ed</td>\n",
       "      <td>5</td>\n",
       "      <td>7</td>\n",
       "      <td>4.0</td>\n",
       "      <td>5</td>\n",
       "    </tr>\n",
       "    <tr>\n",
       "      <th>1</th>\n",
       "      <td>355</td>\n",
       "      <td>1356V4000001E</td>\n",
       "      <td>444</td>\n",
       "      <td>3</td>\n",
       "      <td>4</td>\n",
       "      <td>Facture</td>\n",
       "      <td>facture</td>\n",
       "      <td>\\N</td>\n",
       "      <td>\\N</td>\n",
       "      <td>2013-04-12</td>\n",
       "      <td>...</td>\n",
       "      <td>H2</td>\n",
       "      <td>8.08</td>\n",
       "      <td>12.0</td>\n",
       "      <td>33300</td>\n",
       "      <td>3.4</td>\n",
       "      <td>Ea</td>\n",
       "      <td>2</td>\n",
       "      <td>4</td>\n",
       "      <td>1.5</td>\n",
       "      <td>2</td>\n",
       "    </tr>\n",
       "    <tr>\n",
       "      <th>2</th>\n",
       "      <td>410</td>\n",
       "      <td>1317V7000001E</td>\n",
       "      <td>7374</td>\n",
       "      <td>2</td>\n",
       "      <td>7</td>\n",
       "      <td>3CL - DPE</td>\n",
       "      <td>V2012</td>\n",
       "      <td>\\N</td>\n",
       "      <td>\\N</td>\n",
       "      <td>2013-04-11</td>\n",
       "      <td>...</td>\n",
       "      <td>H2</td>\n",
       "      <td>8.08</td>\n",
       "      <td>12.0</td>\n",
       "      <td>33300</td>\n",
       "      <td>3.4</td>\n",
       "      <td>Ec</td>\n",
       "      <td>4</td>\n",
       "      <td>6</td>\n",
       "      <td>3.0</td>\n",
       "      <td>4</td>\n",
       "    </tr>\n",
       "    <tr>\n",
       "      <th>3</th>\n",
       "      <td>429</td>\n",
       "      <td>1369V4000001I</td>\n",
       "      <td>6931</td>\n",
       "      <td>7</td>\n",
       "      <td>4</td>\n",
       "      <td>3CL</td>\n",
       "      <td>Version 1.3</td>\n",
       "      <td>\\N</td>\n",
       "      <td>\\N</td>\n",
       "      <td>2013-04-02</td>\n",
       "      <td>...</td>\n",
       "      <td>H1</td>\n",
       "      <td>6.58</td>\n",
       "      <td>10.5</td>\n",
       "      <td>42030</td>\n",
       "      <td>3.6</td>\n",
       "      <td>Ec</td>\n",
       "      <td>4</td>\n",
       "      <td>6</td>\n",
       "      <td>3.0</td>\n",
       "      <td>4</td>\n",
       "    </tr>\n",
       "    <tr>\n",
       "      <th>4</th>\n",
       "      <td>470</td>\n",
       "      <td>1364V8000001H</td>\n",
       "      <td>231</td>\n",
       "      <td>3</td>\n",
       "      <td>8</td>\n",
       "      <td>Méthode Facture</td>\n",
       "      <td>NaN</td>\n",
       "      <td>\\N</td>\n",
       "      <td>\\N</td>\n",
       "      <td>2013-04-15</td>\n",
       "      <td>...</td>\n",
       "      <td>H2</td>\n",
       "      <td>8.08</td>\n",
       "      <td>12.0</td>\n",
       "      <td>33300</td>\n",
       "      <td>3.4</td>\n",
       "      <td>Ec</td>\n",
       "      <td>4</td>\n",
       "      <td>6</td>\n",
       "      <td>3.0</td>\n",
       "      <td>4</td>\n",
       "    </tr>\n",
       "  </tbody>\n",
       "</table>\n",
       "<p>5 rows × 131 columns</p>\n",
       "</div>"
      ],
      "text/plain": [
       "    id     numero_dpe  usr_diagnostiqueur_id  usr_logiciel_id  \\\n",
       "0  179  1330V8000001A                   3710                3   \n",
       "1  355  1356V4000001E                    444                3   \n",
       "2  410  1317V7000001E                   7374                2   \n",
       "3  429  1369V4000001I                   6931                7   \n",
       "4  470  1364V8000001H                    231                3   \n",
       "\n",
       "   tr001_modele_dpe_id  nom_methode_dpe version_methode_dpe  \\\n",
       "0                    8  Méthode Facture                 NaN   \n",
       "1                    4          Facture             facture   \n",
       "2                    7        3CL - DPE               V2012   \n",
       "3                    4              3CL         Version 1.3   \n",
       "4                    8  Méthode Facture                 NaN   \n",
       "\n",
       "  nom_methode_etude_thermique version_methode_etude_thermique  \\\n",
       "0                          \\N                              \\N   \n",
       "1                          \\N                              \\N   \n",
       "2                          \\N                              \\N   \n",
       "3                          \\N                              \\N   \n",
       "4                          \\N                              \\N   \n",
       "\n",
       "  date_visite_diagnostiqueur  ... tv017_zone_hiver_code  \\\n",
       "0                 2013-04-10  ...                    H3   \n",
       "1                 2013-04-12  ...                    H2   \n",
       "2                 2013-04-11  ...                    H2   \n",
       "3                 2013-04-02  ...                    H1   \n",
       "4                 2013-04-15  ...                    H2   \n",
       "\n",
       "  tv017_zone_hiver_t_ext_moyen tv017_zone_hiver_peta_cw tv017_zone_hiver_dh14  \\\n",
       "0                         9.65                     14.5                 22200   \n",
       "1                         8.08                     12.0                 33300   \n",
       "2                         8.08                     12.0                 33300   \n",
       "3                         6.58                     10.5                 42030   \n",
       "4                         8.08                     12.0                 33300   \n",
       "\n",
       "   tv017_zone_hiver_prs1 tv018_zone_ete_code  tv018_zone_ete_sclim_inf_150  \\\n",
       "0                    2.9                  Ed                             5   \n",
       "1                    3.4                  Ea                             2   \n",
       "2                    3.4                  Ec                             4   \n",
       "3                    3.6                  Ec                             4   \n",
       "4                    3.4                  Ec                             4   \n",
       "\n",
       "  tv018_zone_ete_sclim_sup_150  tv018_zone_ete_rclim_autres_etages  \\\n",
       "0                            7                                 4.0   \n",
       "1                            4                                 1.5   \n",
       "2                            6                                 3.0   \n",
       "3                            6                                 3.0   \n",
       "4                            6                                 3.0   \n",
       "\n",
       "  tv018_zone_ete_rclim_dernier_etage  \n",
       "0                                  5  \n",
       "1                                  2  \n",
       "2                                  4  \n",
       "3                                  4  \n",
       "4                                  4  \n",
       "\n",
       "[5 rows x 131 columns]"
      ]
     },
     "execution_count": 347,
     "metadata": {},
     "output_type": "execute_result"
    }
   ],
   "source": [
    "df1.head()"
   ]
  },
  {
   "cell_type": "code",
   "execution_count": 348,
   "metadata": {},
   "outputs": [
    {
     "data": {
      "text/plain": [
       "version_methode_dpe                           226482\n",
       "nom_methode_etude_thermique                    11478\n",
       "version_methode_etude_thermique                21095\n",
       "commentaires_ameliorations_recommandations    262228\n",
       "explication_personnalisee                     367854\n",
       "secteur_activite                               47197\n",
       "commune                                          393\n",
       "arrondissement                                321626\n",
       "type_voie                                     292111\n",
       "nom_rue                                          472\n",
       "numero_rue                                    285121\n",
       "batiment                                      364198\n",
       "escalier                                      269714\n",
       "etage                                         339208\n",
       "porte                                         371084\n",
       "code_postal                                      393\n",
       "code_insee_commune                               402\n",
       "code_insee_commune_actualise                     402\n",
       "numero_lot                                    263108\n",
       "quote_part                                    298597\n",
       "nom_centre_commercial                          99596\n",
       "surface_commerciale_contractuelle              74736\n",
       "partie_batiment                               205016\n",
       "type_vitrage_verriere                          74565\n",
       "organisme_certificateur                         2444\n",
       "adresse_organisme_certificateur                13571\n",
       "longitude                                     114479\n",
       "latitude                                      114479\n",
       "geo_type                                      114479\n",
       "geo_adresse                                   114479\n",
       "geo_id                                        117874\n",
       "geo_l4                                        122140\n",
       "geo_l5                                        513272\n",
       "tr001_modele_dpe_modele                        22569\n",
       "tr001_modele_dpe_fichier_vierge                22569\n",
       "tr012_categorie_erp_code                      443398\n",
       "tr012_categorie_erp_categorie                 443398\n",
       "tr012_categorie_erp_groupe                    443398\n",
       "tr012_categorie_erp_est_efface                443398\n",
       "tr013_type_erp_code                           384408\n",
       "tr013_type_erp_type                           384408\n",
       "tr013_type_erp_categorie_id                   384408\n",
       "tr013_type_erp_est_efface                     384408\n",
       "tr013_type_erp_categorie                      384408\n",
       "tv016_departement_c3                          304265\n",
       "tv016_departement_c4                          334910\n",
       "dtype: int64"
      ]
     },
     "execution_count": 348,
     "metadata": {},
     "output_type": "execute_result"
    }
   ],
   "source": [
    "missing_values=df1.isna().sum()\n",
    "missing_values[missing_values>0]"
   ]
  },
  {
   "cell_type": "code",
   "execution_count": 349,
   "metadata": {},
   "outputs": [
    {
     "data": {
      "text/plain": [
       "id                                      int64\n",
       "numero_dpe                             object\n",
       "usr_diagnostiqueur_id                   int64\n",
       "usr_logiciel_id                         int64\n",
       "tr001_modele_dpe_id                     int64\n",
       "                                       ...   \n",
       "tv018_zone_ete_code                    object\n",
       "tv018_zone_ete_sclim_inf_150            int64\n",
       "tv018_zone_ete_sclim_sup_150            int64\n",
       "tv018_zone_ete_rclim_autres_etages    float64\n",
       "tv018_zone_ete_rclim_dernier_etage      int64\n",
       "Length: 131, dtype: object"
      ]
     },
     "execution_count": 349,
     "metadata": {},
     "output_type": "execute_result"
    }
   ],
   "source": [
    "df1.dtypes"
   ]
  },
  {
   "cell_type": "code",
   "execution_count": 350,
   "metadata": {},
   "outputs": [
    {
     "data": {
      "text/plain": [
       "array(['id', 'numero_dpe', 'usr_diagnostiqueur_id', 'usr_logiciel_id',\n",
       "       'tr001_modele_dpe_id', 'nom_methode_dpe', 'version_methode_dpe',\n",
       "       'nom_methode_etude_thermique', 'version_methode_etude_thermique',\n",
       "       'date_visite_diagnostiqueur', 'date_etablissement_dpe',\n",
       "       'date_arrete_tarifs_energies',\n",
       "       'commentaires_ameliorations_recommandations',\n",
       "       'explication_personnalisee', 'consommation_energie',\n",
       "       'classe_consommation_energie', 'estimation_ges',\n",
       "       'classe_estimation_ges', 'tr002_type_batiment_id',\n",
       "       'secteur_activite', 'tr012_categorie_erp_id', 'tr013_type_erp_id',\n",
       "       'annee_construction', 'surface_habitable', 'surface_thermique_lot',\n",
       "       'tv016_departement_id', 'commune', 'arrondissement', 'type_voie',\n",
       "       'nom_rue', 'numero_rue', 'batiment', 'escalier', 'etage', 'porte',\n",
       "       'code_postal', 'code_insee_commune',\n",
       "       'code_insee_commune_actualise', 'numero_lot', 'quote_part',\n",
       "       'nom_centre_commercial', 'surface_commerciale_contractuelle',\n",
       "       'portee_dpe_batiment', 'partie_batiment', 'shon', 'surface_utile',\n",
       "       'surface_thermique_parties_communes', 'en_souterrain',\n",
       "       'en_surface', 'nombre_niveaux', 'nombre_circulations_verticales',\n",
       "       'nombre_boutiques', 'presence_verriere', 'surface_verriere',\n",
       "       'type_vitrage_verriere', 'nombre_entrees_avec_sas',\n",
       "       'nombre_entrees_sans_sas', 'surface_baies_orientees_nord',\n",
       "       'surface_baies_orientees_est_ouest', 'surface_baies_orientees_sud',\n",
       "       'surface_planchers_hauts_deperditifs',\n",
       "       'surface_planchers_bas_deperditifs',\n",
       "       'surface_parois_verticales_opaques_deperditives',\n",
       "       'etat_avancement', 'organisme_certificateur',\n",
       "       'adresse_organisme_certificateur', 'dpe_vierge', 'est_efface',\n",
       "       'date_reception_dpe', 'longitude', 'latitude', 'geo_score',\n",
       "       'geo_type', 'geo_adresse', 'geo_id', 'geo_l4', 'geo_l5',\n",
       "       'tr001_modele_dpe_code', 'tr001_modele_dpe_type_id',\n",
       "       'tr001_modele_dpe_modele', 'tr001_modele_dpe_description',\n",
       "       'tr001_modele_dpe_fichier_vierge', 'tr001_modele_dpe_est_efface',\n",
       "       'tr001_modele_dpe_type', 'tr001_modele_dpe_type_libelle',\n",
       "       'tr001_modele_dpe_type_ordre', 'tr002_type_batiment_code',\n",
       "       'tr002_type_batiment_description', 'tr002_type_batiment_libelle',\n",
       "       'tr002_type_batiment_est_efface', 'tr002_type_batiment_ordre',\n",
       "       'tr002_type_batiment_simulateur', 'tr012_categorie_erp_code',\n",
       "       'tr012_categorie_erp_categorie', 'tr012_categorie_erp_groupe',\n",
       "       'tr012_categorie_erp_est_efface', 'tr013_type_erp_code',\n",
       "       'tr013_type_erp_type', 'tr013_type_erp_categorie_id',\n",
       "       'tr013_type_erp_est_efface', 'tr013_type_erp_categorie',\n",
       "       'tv016_departement_code', 'tv016_departement_departement',\n",
       "       'tv017_zone_hiver_id', 'tv018_zone_ete_id',\n",
       "       'tv016_departement_altmin', 'tv016_departement_altmax',\n",
       "       'tv016_departement_nref', 'tv016_departement_dhref',\n",
       "       'tv016_departement_pref', 'tv016_departement_c2',\n",
       "       'tv016_departement_c3', 'tv016_departement_c4',\n",
       "       'tv016_departement_t_ext_basse', 'tv016_departement_e',\n",
       "       'tv016_departement_fch', 'tv016_departement_fecs_ancienne_m_i',\n",
       "       'tv016_departement_fecs_recente_m_i',\n",
       "       'tv016_departement_fecs_solaire_m_i',\n",
       "       'tv016_departement_fecs_ancienne_i_c',\n",
       "       'tv016_departement_fecs_recente_i_c', 'tv017_zone_hiver_code',\n",
       "       'tv017_zone_hiver_t_ext_moyen', 'tv017_zone_hiver_peta_cw',\n",
       "       'tv017_zone_hiver_dh14', 'tv017_zone_hiver_prs1',\n",
       "       'tv018_zone_ete_code', 'tv018_zone_ete_sclim_inf_150',\n",
       "       'tv018_zone_ete_sclim_sup_150',\n",
       "       'tv018_zone_ete_rclim_autres_etages',\n",
       "       'tv018_zone_ete_rclim_dernier_etage'], dtype=object)"
      ]
     },
     "execution_count": 350,
     "metadata": {},
     "output_type": "execute_result"
    }
   ],
   "source": [
    "np.array(df1.columns)"
   ]
  },
  {
   "cell_type": "code",
   "execution_count": 351,
   "metadata": {},
   "outputs": [],
   "source": [
    "l=df1['date_visite_diagnostiqueur'].unique()"
   ]
  },
  {
   "cell_type": "code",
   "execution_count": 352,
   "metadata": {},
   "outputs": [
    {
     "data": {
      "text/plain": [
       "'0215-03-24'"
      ]
     },
     "execution_count": 352,
     "metadata": {},
     "output_type": "execute_result"
    }
   ],
   "source": [
    "l.min()"
   ]
  },
  {
   "cell_type": "code",
   "execution_count": 353,
   "metadata": {},
   "outputs": [
    {
     "data": {
      "text/plain": [
       "'9999-12-31'"
      ]
     },
     "execution_count": 353,
     "metadata": {},
     "output_type": "execute_result"
    }
   ],
   "source": [
    "l.max()"
   ]
  },
  {
   "cell_type": "code",
   "execution_count": 354,
   "metadata": {},
   "outputs": [
    {
     "data": {
      "text/plain": [
       "515562"
      ]
     },
     "execution_count": 354,
     "metadata": {},
     "output_type": "execute_result"
    }
   ],
   "source": [
    "len(df1)"
   ]
  },
  {
   "cell_type": "code",
   "execution_count": 355,
   "metadata": {},
   "outputs": [],
   "source": [
    "filter1=(df1['date_visite_diagnostiqueur']>'1677-09-21') & (df1['date_visite_diagnostiqueur']<'2026')\n",
    "filter2=(df1['date_etablissement_dpe']>'1677-09-21') & (df1['date_etablissement_dpe']<'2026')\n",
    "filter3=(df1['date_arrete_tarifs_energies']>'1677-09-21') & (df1['date_arrete_tarifs_energies']<'2026')\n",
    "df1=df1[filter1&filter2&filter3]"
   ]
  },
  {
   "cell_type": "code",
   "execution_count": 356,
   "metadata": {},
   "outputs": [
    {
     "data": {
      "text/plain": [
       "515537"
      ]
     },
     "execution_count": 356,
     "metadata": {},
     "output_type": "execute_result"
    }
   ],
   "source": [
    "len(df1)"
   ]
  },
  {
   "cell_type": "code",
   "execution_count": 357,
   "metadata": {},
   "outputs": [],
   "source": [
    "df1['date_visite_diagnostiqueur']=pd.to_datetime(df1['date_visite_diagnostiqueur'])\n",
    "df1['date_etablissement_dpe']=pd.to_datetime(df1['date_etablissement_dpe'])\n",
    "df1['date_arrete_tarifs_energies']=pd.to_datetime(df1['date_arrete_tarifs_energies'])"
   ]
  },
  {
   "cell_type": "code",
   "execution_count": 358,
   "metadata": {},
   "outputs": [
    {
     "data": {
      "text/plain": [
       "0          1.00\n",
       "1          0.00\n",
       "2          0.00\n",
       "3         11.53\n",
       "4          0.00\n",
       "          ...  \n",
       "515557     7.21\n",
       "515558    10.68\n",
       "515559    11.90\n",
       "515560    18.10\n",
       "515561    15.91\n",
       "Name: estimation_ges, Length: 515537, dtype: float64"
      ]
     },
     "execution_count": 358,
     "metadata": {},
     "output_type": "execute_result"
    }
   ],
   "source": [
    "df1['estimation_ges']"
   ]
  },
  {
   "cell_type": "code",
   "execution_count": 359,
   "metadata": {},
   "outputs": [
    {
     "data": {
      "text/plain": [
       "<Axes: ylabel='date_etablissement_dpe'>"
      ]
     },
     "execution_count": 359,
     "metadata": {},
     "output_type": "execute_result"
    },
    {
     "data": {
      "image/png": "[encoded data removed]",
      "text/plain": [
       "<Figure size 640x480 with 1 Axes>"
      ]
     },
     "metadata": {},
     "output_type": "display_data"
    }
   ],
   "source": [
    "sns.boxplot(df1['date_etablissement_dpe'])"
   ]
  },
  {
   "cell_type": "code",
   "execution_count": 360,
   "metadata": {},
   "outputs": [
    {
     "data": {
      "text/plain": [
       "count                           515537\n",
       "mean     2017-09-19 12:36:31.519910656\n",
       "min                1899-12-30 00:00:00\n",
       "25%                2015-10-21 00:00:00\n",
       "50%                2017-10-24 00:00:00\n",
       "75%                2019-09-11 00:00:00\n",
       "max                2021-12-21 00:00:00\n",
       "Name: date_etablissement_dpe, dtype: object"
      ]
     },
     "execution_count": 360,
     "metadata": {},
     "output_type": "execute_result"
    }
   ],
   "source": [
    "df1['date_etablissement_dpe'].describe()"
   ]
  },
  {
   "cell_type": "code",
   "execution_count": 361,
   "metadata": {},
   "outputs": [],
   "source": [
    "Q1=df1['date_etablissement_dpe'].quantile(0.25)\n",
    "Q3=df1['date_etablissement_dpe'].quantile(0.75)\n",
    "IQR=Q3-Q1\n",
    "filter=(df1['date_etablissement_dpe']>=(Q1-1.5*IQR))&(df1['date_etablissement_dpe']<=(Q3+1.5*IQR))\n",
    "df1=df1[filter]"
   ]
  },
  {
   "cell_type": "code",
   "execution_count": 362,
   "metadata": {},
   "outputs": [
    {
     "data": {
      "text/plain": [
       "<Axes: ylabel='date_etablissement_dpe'>"
      ]
     },
     "execution_count": 362,
     "metadata": {},
     "output_type": "execute_result"
    },
    {
     "data": {
      "image/png": "[encoded data removed]",
      "text/plain": [
       "<Figure size 640x480 with 1 Axes>"
      ]
     },
     "metadata": {},
     "output_type": "display_data"
    }
   ],
   "source": [
    "sns.boxplot(df1['date_etablissement_dpe'])"
   ]
  },
  {
   "cell_type": "code",
   "execution_count": 363,
   "metadata": {},
   "outputs": [
    {
     "data": {
      "text/plain": [
       "<Axes: ylabel='date_visite_diagnostiqueur'>"
      ]
     },
     "execution_count": 363,
     "metadata": {},
     "output_type": "execute_result"
    },
    {
     "data": {
      "image/png": "[encoded data removed]",
      "text/plain": [
       "<Figure size 640x480 with 1 Axes>"
      ]
     },
     "metadata": {},
     "output_type": "display_data"
    }
   ],
   "source": [
    "sns.boxplot(df1['date_visite_diagnostiqueur'])"
   ]
  },
  {
   "cell_type": "code",
   "execution_count": 364,
   "metadata": {},
   "outputs": [],
   "source": [
    "Q1=df1['date_visite_diagnostiqueur'].quantile(0.25)\n",
    "Q3=df1['date_visite_diagnostiqueur'].quantile(0.75)\n",
    "IQR=Q3-Q1\n",
    "filter=(df1['date_visite_diagnostiqueur']>=(Q1-1.5*IQR))&(df1['date_visite_diagnostiqueur']<=(Q3+1.5*IQR))\n",
    "df1=df1[filter]"
   ]
  },
  {
   "cell_type": "code",
   "execution_count": 365,
   "metadata": {},
   "outputs": [
    {
     "data": {
      "text/plain": [
       "<Axes: ylabel='date_visite_diagnostiqueur'>"
      ]
     },
     "execution_count": 365,
     "metadata": {},
     "output_type": "execute_result"
    },
    {
     "data": {
      "image/png": "[encoded data removed]",
      "text/plain": [
       "<Figure size 640x480 with 1 Axes>"
      ]
     },
     "metadata": {},
     "output_type": "display_data"
    }
   ],
   "source": [
    "sns.boxplot(df1['date_visite_diagnostiqueur'])"
   ]
  },
  {
   "cell_type": "code",
   "execution_count": 366,
   "metadata": {},
   "outputs": [
    {
     "data": {
      "text/plain": [
       "<Axes: ylabel='date_arrete_tarifs_energies'>"
      ]
     },
     "execution_count": 366,
     "metadata": {},
     "output_type": "execute_result"
    },
    {
     "data": {
      "image/png": "[encoded data removed]",
      "text/plain": [
       "<Figure size 640x480 with 1 Axes>"
      ]
     },
     "metadata": {},
     "output_type": "display_data"
    }
   ],
   "source": [
    "sns.boxplot(df1['date_arrete_tarifs_energies'])"
   ]
  },
  {
   "cell_type": "code",
   "execution_count": 367,
   "metadata": {},
   "outputs": [],
   "source": [
    "Q1=df1['date_arrete_tarifs_energies'].quantile(0.25)\n",
    "Q3=df1['date_arrete_tarifs_energies'].quantile(0.75)\n",
    "IQR=Q3-Q1\n",
    "filter=(df1['date_arrete_tarifs_energies']>=(Q1-1.5*IQR))&(df1['date_arrete_tarifs_energies']<=(Q3+1.5*IQR))\n",
    "df1=df1[filter]"
   ]
  },
  {
   "cell_type": "code",
   "execution_count": 368,
   "metadata": {},
   "outputs": [
    {
     "data": {
      "text/plain": [
       "<Axes: ylabel='date_arrete_tarifs_energies'>"
      ]
     },
     "execution_count": 368,
     "metadata": {},
     "output_type": "execute_result"
    },
    {
     "data": {
      "image/png": "[encoded data removed]",
      "text/plain": [
       "<Figure size 640x480 with 1 Axes>"
      ]
     },
     "metadata": {},
     "output_type": "display_data"
    }
   ],
   "source": [
    "sns.boxplot(df1['date_arrete_tarifs_energies'])"
   ]
  },
  {
   "cell_type": "code",
   "execution_count": 369,
   "metadata": {},
   "outputs": [
    {
     "data": {
      "text/plain": [
       "514422"
      ]
     },
     "execution_count": 369,
     "metadata": {},
     "output_type": "execute_result"
    }
   ],
   "source": [
    "len(df1)"
   ]
  },
  {
   "cell_type": "code",
   "execution_count": 370,
   "metadata": {},
   "outputs": [
    {
     "data": {
      "text/plain": [
       "count    5.144220e+05\n",
       "mean     3.845908e+01\n",
       "std      9.632605e+03\n",
       "min     -2.924000e+01\n",
       "25%      0.000000e+00\n",
       "50%      2.490000e+00\n",
       "75%      1.501000e+01\n",
       "max      4.766768e+06\n",
       "Name: estimation_ges, dtype: float64"
      ]
     },
     "execution_count": 370,
     "metadata": {},
     "output_type": "execute_result"
    }
   ],
   "source": [
    "df1['estimation_ges'].describe()"
   ]
  },
  {
   "cell_type": "code",
   "execution_count": 371,
   "metadata": {},
   "outputs": [
    {
     "data": {
      "text/plain": [
       "<Axes: ylabel='estimation_ges'>"
      ]
     },
     "execution_count": 371,
     "metadata": {},
     "output_type": "execute_result"
    },
    {
     "data": {
      "image/png": "[encoded data removed]",
      "text/plain": [
       "<Figure size 640x480 with 1 Axes>"
      ]
     },
     "metadata": {},
     "output_type": "display_data"
    }
   ],
   "source": [
    "sns.boxplot(df1['estimation_ges'])"
   ]
  },
  {
   "cell_type": "code",
   "execution_count": 372,
   "metadata": {},
   "outputs": [],
   "source": [
    "Q1=df1['estimation_ges'].quantile(0.25)\n",
    "Q3=df1['estimation_ges'].quantile(0.75)\n",
    "IQR=Q3-Q1\n",
    "filter=(df1['estimation_ges']>=(Q1-1.5*IQR))&(df1['estimation_ges']<=(Q3+1.5*IQR))\n",
    "df1=df1[filter]"
   ]
  },
  {
   "cell_type": "code",
   "execution_count": 373,
   "metadata": {},
   "outputs": [
    {
     "data": {
      "text/plain": [
       "<Axes: ylabel='estimation_ges'>"
      ]
     },
     "execution_count": 373,
     "metadata": {},
     "output_type": "execute_result"
    },
    {
     "data": {
      "image/png": "[encoded data removed]",
      "text/plain": [
       "<Figure size 640x480 with 1 Axes>"
      ]
     },
     "metadata": {},
     "output_type": "display_data"
    }
   ],
   "source": [
    "sns.boxplot(df1['estimation_ges'])"
   ]
  },
  {
   "cell_type": "code",
   "execution_count": 374,
   "metadata": {},
   "outputs": [],
   "source": [
    "#les colonnes numeriques\n",
    "numerical_columns=df1.select_dtypes(include=['number']).columns"
   ]
  },
  {
   "cell_type": "code",
   "execution_count": 375,
   "metadata": {},
   "outputs": [
    {
     "data": {
      "text/html": [
       "<div>\n",
       "<style scoped>\n",
       "    .dataframe tbody tr th:only-of-type {\n",
       "        vertical-align: middle;\n",
       "    }\n",
       "\n",
       "    .dataframe tbody tr th {\n",
       "        vertical-align: top;\n",
       "    }\n",
       "\n",
       "    .dataframe thead th {\n",
       "        text-align: right;\n",
       "    }\n",
       "</style>\n",
       "<table border=\"1\" class=\"dataframe\">\n",
       "  <thead>\n",
       "    <tr style=\"text-align: right;\">\n",
       "      <th></th>\n",
       "      <th>id</th>\n",
       "      <th>numero_dpe</th>\n",
       "      <th>usr_diagnostiqueur_id</th>\n",
       "      <th>usr_logiciel_id</th>\n",
       "      <th>tr001_modele_dpe_id</th>\n",
       "      <th>nom_methode_dpe</th>\n",
       "      <th>version_methode_dpe</th>\n",
       "      <th>nom_methode_etude_thermique</th>\n",
       "      <th>version_methode_etude_thermique</th>\n",
       "      <th>date_visite_diagnostiqueur</th>\n",
       "      <th>...</th>\n",
       "      <th>tv017_zone_hiver_code</th>\n",
       "      <th>tv017_zone_hiver_t_ext_moyen</th>\n",
       "      <th>tv017_zone_hiver_peta_cw</th>\n",
       "      <th>tv017_zone_hiver_dh14</th>\n",
       "      <th>tv017_zone_hiver_prs1</th>\n",
       "      <th>tv018_zone_ete_code</th>\n",
       "      <th>tv018_zone_ete_sclim_inf_150</th>\n",
       "      <th>tv018_zone_ete_sclim_sup_150</th>\n",
       "      <th>tv018_zone_ete_rclim_autres_etages</th>\n",
       "      <th>tv018_zone_ete_rclim_dernier_etage</th>\n",
       "    </tr>\n",
       "  </thead>\n",
       "  <tbody>\n",
       "    <tr>\n",
       "      <th>55274</th>\n",
       "      <td>1191469</td>\n",
       "      <td>0973V8000002N</td>\n",
       "      <td>9480</td>\n",
       "      <td>3</td>\n",
       "      <td>8</td>\n",
       "      <td>Méthode Facture</td>\n",
       "      <td>NaN</td>\n",
       "      <td>\\N</td>\n",
       "      <td>\\N</td>\n",
       "      <td>2009-12-22</td>\n",
       "      <td>...</td>\n",
       "      <td>H1</td>\n",
       "      <td>6.58</td>\n",
       "      <td>10.5</td>\n",
       "      <td>42030</td>\n",
       "      <td>3.6</td>\n",
       "      <td>Ec</td>\n",
       "      <td>4</td>\n",
       "      <td>6</td>\n",
       "      <td>3.0</td>\n",
       "      <td>4</td>\n",
       "    </tr>\n",
       "    <tr>\n",
       "      <th>54171</th>\n",
       "      <td>1170896</td>\n",
       "      <td>0973V8000001M</td>\n",
       "      <td>9480</td>\n",
       "      <td>3</td>\n",
       "      <td>8</td>\n",
       "      <td>Méthode Facture</td>\n",
       "      <td>NaN</td>\n",
       "      <td>\\N</td>\n",
       "      <td>\\N</td>\n",
       "      <td>2009-12-22</td>\n",
       "      <td>...</td>\n",
       "      <td>H1</td>\n",
       "      <td>6.58</td>\n",
       "      <td>10.5</td>\n",
       "      <td>42030</td>\n",
       "      <td>3.6</td>\n",
       "      <td>Ec</td>\n",
       "      <td>4</td>\n",
       "      <td>6</td>\n",
       "      <td>3.0</td>\n",
       "      <td>4</td>\n",
       "    </tr>\n",
       "    <tr>\n",
       "      <th>180313</th>\n",
       "      <td>3705358</td>\n",
       "      <td>0941V3000001C</td>\n",
       "      <td>6607</td>\n",
       "      <td>10</td>\n",
       "      <td>3</td>\n",
       "      <td>FACTURE - DPE</td>\n",
       "      <td>V2012</td>\n",
       "      <td>\\N</td>\n",
       "      <td>\\N</td>\n",
       "      <td>2009-12-28</td>\n",
       "      <td>...</td>\n",
       "      <td>H2</td>\n",
       "      <td>8.08</td>\n",
       "      <td>12.0</td>\n",
       "      <td>33300</td>\n",
       "      <td>3.4</td>\n",
       "      <td>Eb</td>\n",
       "      <td>3</td>\n",
       "      <td>5</td>\n",
       "      <td>2.0</td>\n",
       "      <td>3</td>\n",
       "    </tr>\n",
       "    <tr>\n",
       "      <th>410589</th>\n",
       "      <td>9140944</td>\n",
       "      <td>2026V7000001C</td>\n",
       "      <td>17707</td>\n",
       "      <td>13</td>\n",
       "      <td>7</td>\n",
       "      <td>DPE VIERGE</td>\n",
       "      <td>V2012</td>\n",
       "      <td>\\N</td>\n",
       "      <td>\\N</td>\n",
       "      <td>2010-01-07</td>\n",
       "      <td>...</td>\n",
       "      <td>H2</td>\n",
       "      <td>8.08</td>\n",
       "      <td>12.0</td>\n",
       "      <td>33300</td>\n",
       "      <td>3.4</td>\n",
       "      <td>Ed</td>\n",
       "      <td>5</td>\n",
       "      <td>7</td>\n",
       "      <td>4.0</td>\n",
       "      <td>5</td>\n",
       "    </tr>\n",
       "    <tr>\n",
       "      <th>477961</th>\n",
       "      <td>10838058</td>\n",
       "      <td>1035V3000001X</td>\n",
       "      <td>1245</td>\n",
       "      <td>13</td>\n",
       "      <td>3</td>\n",
       "      <td>DPE VIERGE</td>\n",
       "      <td>V2012</td>\n",
       "      <td>\\N</td>\n",
       "      <td>\\N</td>\n",
       "      <td>2010-01-29</td>\n",
       "      <td>...</td>\n",
       "      <td>H2</td>\n",
       "      <td>8.08</td>\n",
       "      <td>12.0</td>\n",
       "      <td>33300</td>\n",
       "      <td>3.4</td>\n",
       "      <td>Ea</td>\n",
       "      <td>2</td>\n",
       "      <td>4</td>\n",
       "      <td>1.5</td>\n",
       "      <td>2</td>\n",
       "    </tr>\n",
       "    <tr>\n",
       "      <th>...</th>\n",
       "      <td>...</td>\n",
       "      <td>...</td>\n",
       "      <td>...</td>\n",
       "      <td>...</td>\n",
       "      <td>...</td>\n",
       "      <td>...</td>\n",
       "      <td>...</td>\n",
       "      <td>...</td>\n",
       "      <td>...</td>\n",
       "      <td>...</td>\n",
       "      <td>...</td>\n",
       "      <td>...</td>\n",
       "      <td>...</td>\n",
       "      <td>...</td>\n",
       "      <td>...</td>\n",
       "      <td>...</td>\n",
       "      <td>...</td>\n",
       "      <td>...</td>\n",
       "      <td>...</td>\n",
       "      <td>...</td>\n",
       "      <td>...</td>\n",
       "    </tr>\n",
       "    <tr>\n",
       "      <th>485941</th>\n",
       "      <td>11035519</td>\n",
       "      <td>2113V4000086J</td>\n",
       "      <td>16594</td>\n",
       "      <td>10</td>\n",
       "      <td>4</td>\n",
       "      <td>FACTURE - DPE</td>\n",
       "      <td>V2012</td>\n",
       "      <td>\\N</td>\n",
       "      <td>\\N</td>\n",
       "      <td>2021-08-16</td>\n",
       "      <td>...</td>\n",
       "      <td>H3</td>\n",
       "      <td>9.65</td>\n",
       "      <td>14.5</td>\n",
       "      <td>22200</td>\n",
       "      <td>2.9</td>\n",
       "      <td>Ed</td>\n",
       "      <td>5</td>\n",
       "      <td>7</td>\n",
       "      <td>4.0</td>\n",
       "      <td>5</td>\n",
       "    </tr>\n",
       "    <tr>\n",
       "      <th>484202</th>\n",
       "      <td>10991011</td>\n",
       "      <td>2140N2000005Q</td>\n",
       "      <td>21413</td>\n",
       "      <td>10</td>\n",
       "      <td>12</td>\n",
       "      <td>FACTURE - DPE</td>\n",
       "      <td>V2012</td>\n",
       "      <td>Th-BCE 2012</td>\n",
       "      <td>7502</td>\n",
       "      <td>2021-10-27</td>\n",
       "      <td>...</td>\n",
       "      <td>H2</td>\n",
       "      <td>8.08</td>\n",
       "      <td>12.0</td>\n",
       "      <td>33300</td>\n",
       "      <td>3.4</td>\n",
       "      <td>Ec</td>\n",
       "      <td>4</td>\n",
       "      <td>6</td>\n",
       "      <td>3.0</td>\n",
       "      <td>4</td>\n",
       "    </tr>\n",
       "    <tr>\n",
       "      <th>481589</th>\n",
       "      <td>10928557</td>\n",
       "      <td>2154N2000019A</td>\n",
       "      <td>18560</td>\n",
       "      <td>10</td>\n",
       "      <td>12</td>\n",
       "      <td>FACTURE - DPE</td>\n",
       "      <td>V2012</td>\n",
       "      <td>Th-BCE 2012</td>\n",
       "      <td>7400</td>\n",
       "      <td>2021-12-11</td>\n",
       "      <td>...</td>\n",
       "      <td>H1</td>\n",
       "      <td>6.58</td>\n",
       "      <td>10.5</td>\n",
       "      <td>42030</td>\n",
       "      <td>3.6</td>\n",
       "      <td>Eb</td>\n",
       "      <td>3</td>\n",
       "      <td>5</td>\n",
       "      <td>2.0</td>\n",
       "      <td>3</td>\n",
       "    </tr>\n",
       "    <tr>\n",
       "      <th>482040</th>\n",
       "      <td>10939956</td>\n",
       "      <td>2154V2000875S</td>\n",
       "      <td>13279</td>\n",
       "      <td>11</td>\n",
       "      <td>2</td>\n",
       "      <td>3CL - DPE</td>\n",
       "      <td>V1.3</td>\n",
       "      <td>\\N</td>\n",
       "      <td>\\N</td>\n",
       "      <td>2021-12-17</td>\n",
       "      <td>...</td>\n",
       "      <td>H1</td>\n",
       "      <td>6.58</td>\n",
       "      <td>10.5</td>\n",
       "      <td>42030</td>\n",
       "      <td>3.6</td>\n",
       "      <td>Eb</td>\n",
       "      <td>3</td>\n",
       "      <td>5</td>\n",
       "      <td>2.0</td>\n",
       "      <td>3</td>\n",
       "    </tr>\n",
       "    <tr>\n",
       "      <th>471284</th>\n",
       "      <td>10672182</td>\n",
       "      <td>2113P2000001O</td>\n",
       "      <td>16594</td>\n",
       "      <td>10</td>\n",
       "      <td>15</td>\n",
       "      <td>FACTURE - DPE</td>\n",
       "      <td>V2012</td>\n",
       "      <td>\\N</td>\n",
       "      <td>\\N</td>\n",
       "      <td>2021-12-21</td>\n",
       "      <td>...</td>\n",
       "      <td>H3</td>\n",
       "      <td>9.65</td>\n",
       "      <td>14.5</td>\n",
       "      <td>22200</td>\n",
       "      <td>2.9</td>\n",
       "      <td>Ed</td>\n",
       "      <td>5</td>\n",
       "      <td>7</td>\n",
       "      <td>4.0</td>\n",
       "      <td>5</td>\n",
       "    </tr>\n",
       "  </tbody>\n",
       "</table>\n",
       "<p>462224 rows × 131 columns</p>\n",
       "</div>"
      ],
      "text/plain": [
       "              id     numero_dpe  usr_diagnostiqueur_id  usr_logiciel_id  \\\n",
       "55274    1191469  0973V8000002N                   9480                3   \n",
       "54171    1170896  0973V8000001M                   9480                3   \n",
       "180313   3705358  0941V3000001C                   6607               10   \n",
       "410589   9140944  2026V7000001C                  17707               13   \n",
       "477961  10838058  1035V3000001X                   1245               13   \n",
       "...          ...            ...                    ...              ...   \n",
       "485941  11035519  2113V4000086J                  16594               10   \n",
       "484202  10991011  2140N2000005Q                  21413               10   \n",
       "481589  10928557  2154N2000019A                  18560               10   \n",
       "482040  10939956  2154V2000875S                  13279               11   \n",
       "471284  10672182  2113P2000001O                  16594               10   \n",
       "\n",
       "        tr001_modele_dpe_id  nom_methode_dpe version_methode_dpe  \\\n",
       "55274                     8  Méthode Facture                 NaN   \n",
       "54171                     8  Méthode Facture                 NaN   \n",
       "180313                    3    FACTURE - DPE               V2012   \n",
       "410589                    7       DPE VIERGE               V2012   \n",
       "477961                    3       DPE VIERGE               V2012   \n",
       "...                     ...              ...                 ...   \n",
       "485941                    4    FACTURE - DPE               V2012   \n",
       "484202                   12    FACTURE - DPE               V2012   \n",
       "481589                   12    FACTURE - DPE               V2012   \n",
       "482040                    2        3CL - DPE                V1.3   \n",
       "471284                   15    FACTURE - DPE               V2012   \n",
       "\n",
       "       nom_methode_etude_thermique version_methode_etude_thermique  \\\n",
       "55274                           \\N                              \\N   \n",
       "54171                           \\N                              \\N   \n",
       "180313                          \\N                              \\N   \n",
       "410589                          \\N                              \\N   \n",
       "477961                          \\N                              \\N   \n",
       "...                            ...                             ...   \n",
       "485941                          \\N                              \\N   \n",
       "484202                 Th-BCE 2012                            7502   \n",
       "481589                 Th-BCE 2012                            7400   \n",
       "482040                          \\N                              \\N   \n",
       "471284                          \\N                              \\N   \n",
       "\n",
       "       date_visite_diagnostiqueur  ... tv017_zone_hiver_code  \\\n",
       "55274                  2009-12-22  ...                    H1   \n",
       "54171                  2009-12-22  ...                    H1   \n",
       "180313                 2009-12-28  ...                    H2   \n",
       "410589                 2010-01-07  ...                    H2   \n",
       "477961                 2010-01-29  ...                    H2   \n",
       "...                           ...  ...                   ...   \n",
       "485941                 2021-08-16  ...                    H3   \n",
       "484202                 2021-10-27  ...                    H2   \n",
       "481589                 2021-12-11  ...                    H1   \n",
       "482040                 2021-12-17  ...                    H1   \n",
       "471284                 2021-12-21  ...                    H3   \n",
       "\n",
       "       tv017_zone_hiver_t_ext_moyen tv017_zone_hiver_peta_cw  \\\n",
       "55274                          6.58                     10.5   \n",
       "54171                          6.58                     10.5   \n",
       "180313                         8.08                     12.0   \n",
       "410589                         8.08                     12.0   \n",
       "477961                         8.08                     12.0   \n",
       "...                             ...                      ...   \n",
       "485941                         9.65                     14.5   \n",
       "484202                         8.08                     12.0   \n",
       "481589                         6.58                     10.5   \n",
       "482040                         6.58                     10.5   \n",
       "471284                         9.65                     14.5   \n",
       "\n",
       "       tv017_zone_hiver_dh14  tv017_zone_hiver_prs1 tv018_zone_ete_code  \\\n",
       "55274                  42030                    3.6                  Ec   \n",
       "54171                  42030                    3.6                  Ec   \n",
       "180313                 33300                    3.4                  Eb   \n",
       "410589                 33300                    3.4                  Ed   \n",
       "477961                 33300                    3.4                  Ea   \n",
       "...                      ...                    ...                 ...   \n",
       "485941                 22200                    2.9                  Ed   \n",
       "484202                 33300                    3.4                  Ec   \n",
       "481589                 42030                    3.6                  Eb   \n",
       "482040                 42030                    3.6                  Eb   \n",
       "471284                 22200                    2.9                  Ed   \n",
       "\n",
       "        tv018_zone_ete_sclim_inf_150 tv018_zone_ete_sclim_sup_150  \\\n",
       "55274                              4                            6   \n",
       "54171                              4                            6   \n",
       "180313                             3                            5   \n",
       "410589                             5                            7   \n",
       "477961                             2                            4   \n",
       "...                              ...                          ...   \n",
       "485941                             5                            7   \n",
       "484202                             4                            6   \n",
       "481589                             3                            5   \n",
       "482040                             3                            5   \n",
       "471284                             5                            7   \n",
       "\n",
       "        tv018_zone_ete_rclim_autres_etages tv018_zone_ete_rclim_dernier_etage  \n",
       "55274                                  3.0                                  4  \n",
       "54171                                  3.0                                  4  \n",
       "180313                                 2.0                                  3  \n",
       "410589                                 4.0                                  5  \n",
       "477961                                 1.5                                  2  \n",
       "...                                    ...                                ...  \n",
       "485941                                 4.0                                  5  \n",
       "484202                                 3.0                                  4  \n",
       "481589                                 2.0                                  3  \n",
       "482040                                 2.0                                  3  \n",
       "471284                                 4.0                                  5  \n",
       "\n",
       "[462224 rows x 131 columns]"
      ]
     },
     "execution_count": 375,
     "metadata": {},
     "output_type": "execute_result"
    }
   ],
   "source": [
    "df1.sort_values(by='date_visite_diagnostiqueur')"
   ]
  },
  {
   "cell_type": "code",
   "execution_count": 376,
   "metadata": {},
   "outputs": [
    {
     "data": {
      "text/plain": [
       "11384"
      ]
     },
     "execution_count": 376,
     "metadata": {},
     "output_type": "execute_result"
    }
   ],
   "source": [
    "df1['usr_diagnostiqueur_id'].nunique()"
   ]
  },
  {
   "cell_type": "code",
   "execution_count": 377,
   "metadata": {},
   "outputs": [
    {
     "data": {
      "text/plain": [
       "[<matplotlib.lines.Line2D at 0x19c8f24af90>]"
      ]
     },
     "execution_count": 377,
     "metadata": {},
     "output_type": "execute_result"
    },
    {
     "data": {
      "image/png": "[encoded data removed]",
      "text/plain": [
       "<Figure size 640x480 with 1 Axes>"
      ]
     },
     "metadata": {},
     "output_type": "display_data"
    }
   ],
   "source": [
    "l=df1['tv016_departement_departement'].unique()\n",
    "filter=(df1['tv016_departement_departement']==l[0])\n",
    "plt.plot(df1[filter]['date_visite_diagnostiqueur'],df1[filter]['estimation_ges'],'o')"
   ]
  },
  {
   "cell_type": "code",
   "execution_count": 378,
   "metadata": {},
   "outputs": [
    {
     "data": {
      "text/plain": [
       "array([4, 5], dtype=int64)"
      ]
     },
     "execution_count": 378,
     "metadata": {},
     "output_type": "execute_result"
    }
   ],
   "source": [
    "df1['tr002_type_batiment_id'].unique()"
   ]
  },
  {
   "cell_type": "code",
   "execution_count": 379,
   "metadata": {},
   "outputs": [
    {
     "data": {
      "text/plain": [
       "array(['\\\\N', '5', '4', '1', '3', '2'], dtype=object)"
      ]
     },
     "execution_count": 379,
     "metadata": {},
     "output_type": "execute_result"
    }
   ],
   "source": [
    "df1['tr012_categorie_erp_id'].unique()"
   ]
  },
  {
   "cell_type": "code",
   "execution_count": 380,
   "metadata": {},
   "outputs": [
    {
     "data": {
      "text/plain": [
       "array([nan, 'M\\xa0: Magasins de vente, centres commerciaux',\n",
       "       'W\\xa0: Administrations, banques, bureaux', 'GHA\\xa0: Habitation',\n",
       "       'N\\xa0: Restaurants et débits de boisson',\n",
       "       'O\\xa0: Hôtels et pensions de famille', 'GHW\\xa0: Bureaux',\n",
       "       'U\\xa0: Établissements de soins',\n",
       "       'J\\xa0: Structures d’accueil pour personnes âgées ou personnes handicapées',\n",
       "       'R\\xa0: Établissements d’éveil, d’enseignement, de formation, centres de vacances, centres de loisirs sans hébergement',\n",
       "       \"T\\xa0: Salles d'exposition à vocation commerciale\",\n",
       "       'P\\xa0: Salles de danse et salles de jeux', 'GHZ\\xa0: Usage mixte',\n",
       "       'PS\\xa0: Parcs de Stationnement couverts',\n",
       "       \"L\\xa0: Salles d'auditions, de conférences, de réunions, de spectacles ou à usage multiple\",\n",
       "       \"GHS\\xa0: Dépôt d'archives\",\n",
       "       'S\\xa0: Bibliothèques, centres de documentation',\n",
       "       \"OA\\xa0: Hôtels-restaurants d'Altitude\", 'GHR\\xa0: Enseignement',\n",
       "       'PA\\xa0: Établissements de Plein Air', 'GHU\\xa0: Usage sanitaire',\n",
       "       'GHO\\xa0: Hôtel', 'V\\xa0: Établissements de divers cultes',\n",
       "       'X\\xa0: Établissements sportifs couverts',\n",
       "       'GA\\xa0: Gares Accessibles au public (chemins de fer, téléphériques, remonte-pentes...)',\n",
       "       'REF\\xa0: REFuges de montagne',\n",
       "       'CTS\\xa0: Chapiteaux, Tentes et Structures toile', 'Y\\xa0: Musées',\n",
       "       'GHTC\\xa0: tour de contrôle',\n",
       "       'EF\\xa0: Établissements flottants (eaux intérieures)'],\n",
       "      dtype=object)"
      ]
     },
     "execution_count": 380,
     "metadata": {},
     "output_type": "execute_result"
    }
   ],
   "source": [
    "df1['tr013_type_erp_type'].unique()"
   ]
  },
  {
   "cell_type": "code",
   "execution_count": 381,
   "metadata": {},
   "outputs": [],
   "source": [
    "def modify(ch):\n",
    "    # Si ch est une chaîne de caractères, on effectue le split\n",
    "    if isinstance(ch, str):\n",
    "        return ch.split(\"\\xa0\")[0]+' '+ch.split(\"\\xa0\")[1]\n",
    "    else:\n",
    "        # Si ce n'est pas une chaîne, on retourne la valeur telle quelle\n",
    "        return ch\n",
    "df1['tr013_type_erp_type']=df1['tr013_type_erp_type'].apply(modify)\n"
   ]
  },
  {
   "cell_type": "code",
   "execution_count": 382,
   "metadata": {},
   "outputs": [
    {
     "data": {
      "text/plain": [
       "array([nan, 'M : Magasins de vente, centres commerciaux',\n",
       "       'W : Administrations, banques, bureaux', 'GHA : Habitation',\n",
       "       'N : Restaurants et débits de boisson',\n",
       "       'O : Hôtels et pensions de famille', 'GHW : Bureaux',\n",
       "       'U : Établissements de soins',\n",
       "       'J : Structures d’accueil pour personnes âgées ou personnes handicapées',\n",
       "       'R : Établissements d’éveil, d’enseignement, de formation, centres de vacances, centres de loisirs sans hébergement',\n",
       "       \"T : Salles d'exposition à vocation commerciale\",\n",
       "       'P : Salles de danse et salles de jeux', 'GHZ : Usage mixte',\n",
       "       'PS : Parcs de Stationnement couverts',\n",
       "       \"L : Salles d'auditions, de conférences, de réunions, de spectacles ou à usage multiple\",\n",
       "       \"GHS : Dépôt d'archives\",\n",
       "       'S : Bibliothèques, centres de documentation',\n",
       "       \"OA : Hôtels-restaurants d'Altitude\", 'GHR : Enseignement',\n",
       "       'PA : Établissements de Plein Air', 'GHU : Usage sanitaire',\n",
       "       'GHO : Hôtel', 'V : Établissements de divers cultes',\n",
       "       'X : Établissements sportifs couverts',\n",
       "       'GA : Gares Accessibles au public (chemins de fer, téléphériques, remonte-pentes...)',\n",
       "       'REF : REFuges de montagne',\n",
       "       'CTS : Chapiteaux, Tentes et Structures toile', 'Y : Musées',\n",
       "       'GHTC : tour de contrôle',\n",
       "       'EF : Établissements flottants (eaux intérieures)'], dtype=object)"
      ]
     },
     "execution_count": 382,
     "metadata": {},
     "output_type": "execute_result"
    }
   ],
   "source": [
    "df1['tr013_type_erp_type'].unique()"
   ]
  },
  {
   "cell_type": "code",
   "execution_count": 383,
   "metadata": {},
   "outputs": [
    {
     "data": {
      "text/plain": [
       "[<matplotlib.lines.Line2D at 0x19c0cf939b0>]"
      ]
     },
     "execution_count": 383,
     "metadata": {},
     "output_type": "execute_result"
    },
    {
     "data": {
      "image/png": "[encoded data removed]",
      "text/plain": [
       "<Figure size 640x480 with 1 Axes>"
      ]
     },
     "metadata": {},
     "output_type": "display_data"
    }
   ],
   "source": [
    "filtre=df1['tr013_type_erp_type']=='M'\n",
    "plt.plot(df1[filtre]['date_visite_diagnostiqueur'],df1[filtre]['estimation_ges'],'o')"
   ]
  },
  {
   "cell_type": "code",
   "execution_count": 384,
   "metadata": {},
   "outputs": [
    {
     "data": {
      "text/plain": [
       "[<matplotlib.lines.Line2D at 0x19c3d7abd70>]"
      ]
     },
     "execution_count": 384,
     "metadata": {},
     "output_type": "execute_result"
    },
    {
     "data": {
      "image/png": "[encoded data removed]",
      "text/plain": [
       "<Figure size 640x480 with 1 Axes>"
      ]
     },
     "metadata": {},
     "output_type": "display_data"
    }
   ],
   "source": [
    "filter2=df1[filtre]['tr001_modele_dpe_id']==4\n",
    "plt.plot(df1[filtre][filter2]['date_visite_diagnostiqueur'],df1[filtre][filter2]['estimation_ges'],'o')"
   ]
  },
  {
   "cell_type": "code",
   "execution_count": 385,
   "metadata": {},
   "outputs": [
    {
     "name": "stderr",
     "output_type": "stream",
     "text": [
      "C:\\Users\\marie\\AppData\\Local\\Temp\\ipykernel_20688\\1334175104.py:1: UserWarning: Boolean Series key will be reindexed to match DataFrame index.\n",
      "  df1[filter1&filter2]\n",
      "C:\\Users\\marie\\AppData\\Local\\Temp\\ipykernel_20688\\1334175104.py:3: UserWarning: Boolean Series key will be reindexed to match DataFrame index.\n",
      "  plt.plot(df1[filter1&filter2&filter3]['date_visite_diagnostiqueur'],df1[filter1&filter2&filter3]['estimation_ges'],'o')\n",
      "C:\\Users\\marie\\AppData\\Local\\Temp\\ipykernel_20688\\1334175104.py:3: UserWarning: Boolean Series key will be reindexed to match DataFrame index.\n",
      "  plt.plot(df1[filter1&filter2&filter3]['date_visite_diagnostiqueur'],df1[filter1&filter2&filter3]['estimation_ges'],'o')\n"
     ]
    },
    {
     "data": {
      "text/plain": [
       "[<matplotlib.lines.Line2D at 0x19c3d6c4c20>]"
      ]
     },
     "execution_count": 385,
     "metadata": {},
     "output_type": "execute_result"
    },
    {
     "data": {
      "image/png": "[encoded data removed]",
      "text/plain": [
       "<Figure size 640x480 with 1 Axes>"
      ]
     },
     "metadata": {},
     "output_type": "display_data"
    }
   ],
   "source": [
    "df1[filter1&filter2]\n",
    "filter3=df1['usr_logiciel_id']==2\n",
    "plt.plot(df1[filter1&filter2&filter3]['date_visite_diagnostiqueur'],df1[filter1&filter2&filter3]['estimation_ges'],'o')"
   ]
  },
  {
   "cell_type": "code",
   "execution_count": 386,
   "metadata": {},
   "outputs": [],
   "source": [
    "l=np.array(df1['secteur_activite'])"
   ]
  },
  {
   "cell_type": "code",
   "execution_count": null,
   "metadata": {},
   "outputs": [],
   "source": [
    "df_names=pd.read_excel('mapping_secteur_activite.xlsx')"
   ]
  },
  {
   "cell_type": "code",
   "execution_count": 388,
   "metadata": {},
   "outputs": [
    {
     "data": {
      "text/plain": [
       "\"Bâtiment à usage principale de bureau, d'administration ou d'enseignement\""
      ]
     },
     "execution_count": 388,
     "metadata": {},
     "output_type": "execute_result"
    }
   ],
   "source": [
    "df_names.iloc[0]['asset_type_cre']"
   ]
  },
  {
   "cell_type": "code",
   "execution_count": null,
   "metadata": {},
   "outputs": [],
   "source": [
    "df1 = df1.merge(df_names[['secteur_activite', 'asset_type_cre']], \n",
    "                on='secteur_activite', how='left')\n",
    "\n",
    "# Remplacer uniquement les valeurs non nulles et conserver les autres\n",
    "df1['secteur_activite'] = df1['asset_type_cre'].fillna(df1['secteur_activite'])\n",
    "\n",
    "# Supprimer la colonne intermédiaire\n",
    "df1.drop(columns=['asset_type_cre'], inplace=True)\n",
    "\n"
   ]
  },
  {
   "cell_type": "code",
   "execution_count": 390,
   "metadata": {},
   "outputs": [
    {
     "data": {
      "text/plain": [
       "array(['Autres (théâtres, salles de sport, restaurati',\n",
       "       \"Bâtiment à usage principale de bureau, d'administration ou d'enseignement\",\n",
       "       'Autres cas (par exemple: théâtres, salles de sport, restauration, commerces individuels, etc)',\n",
       "       ..., 'Evenementiel: Salle de réception', 'Billard',\n",
       "       'bureaux et atalier'], dtype=object)"
      ]
     },
     "execution_count": 390,
     "metadata": {},
     "output_type": "execute_result"
    }
   ],
   "source": [
    "df1['secteur_activite'].unique()"
   ]
  },
  {
   "cell_type": "code",
   "execution_count": 391,
   "metadata": {},
   "outputs": [
    {
     "data": {
      "text/plain": [
       "41577"
      ]
     },
     "execution_count": 391,
     "metadata": {},
     "output_type": "execute_result"
    }
   ],
   "source": [
    "df1['secteur_activite'].isna().sum()"
   ]
  },
  {
   "cell_type": "code",
   "execution_count": 392,
   "metadata": {},
   "outputs": [
    {
     "data": {
      "text/plain": [
       "47197"
      ]
     },
     "execution_count": 392,
     "metadata": {},
     "output_type": "execute_result"
    }
   ],
   "source": [
    "missing_values['secteur_activite']"
   ]
  },
  {
   "cell_type": "code",
   "execution_count": null,
   "metadata": {},
   "outputs": [],
   "source": []
  }
 ],
 "metadata": {
  "kernelspec": {
   "display_name": "base",
   "language": "python",
   "name": "python3"
  },
  "language_info": {
   "codemirror_mode": {
    "name": "ipython",
    "version": 3
   },
   "file_extension": ".py",
   "mimetype": "text/x-python",
   "name": "python",
   "nbconvert_exporter": "python",
   "pygments_lexer": "ipython3",
   "version": "3.12.4"
  }
 },
 "nbformat": 4,
 "nbformat_minor": 2
}
